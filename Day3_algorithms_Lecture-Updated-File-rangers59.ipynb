{
 "cells": [
  {
   "cell_type": "markdown",
   "metadata": {},
   "source": [
    "# Algorithms, Binary Search & Linked Lists"
   ]
  },
  {
   "cell_type": "markdown",
   "metadata": {},
   "source": [
    "## Tasks Today:\n",
    " \n",
    "1) <b>In-Place Algorithms</b> <br>\n",
    " &nbsp;&nbsp;&nbsp;&nbsp; a) Syntax <br>\n",
    " &nbsp;&nbsp;&nbsp;&nbsp; a) Out of Place Algorithm <br>\n",
    " &nbsp;&nbsp;&nbsp;&nbsp; b) In-Class Exercise #1 <br>\n",
    "2) <b>Two Pointers</b> <br>\n",
    "3) <b>Linked Lists</b> <br>\n",
    "4) <b>Merge Sort</b> <br>\n",
    " &nbsp;&nbsp;&nbsp;&nbsp; a) Video on Algorithms <br>\n",
    " &nbsp;&nbsp;&nbsp;&nbsp; b) How it Works <br>\n",
    "5) <b>Exercises</b> <br>\n",
    " &nbsp;&nbsp;&nbsp;&nbsp; a) Exercise #1 - Reverse a List in Place Using an In-Place Algorithm <br>\n",
    " &nbsp;&nbsp;&nbsp;&nbsp; b) Exercise #2 - Find Distinct Words <br>\n",
    " &nbsp;&nbsp;&nbsp;&nbsp; c) Exercise #3 - Write a program to implement a Linear Search Algorithm. <br>"
   ]
  },
  {
   "cell_type": "markdown",
   "metadata": {},
   "source": [
    "## In-Place Algorithms"
   ]
  },
  {
   "cell_type": "markdown",
   "metadata": {},
   "source": [
    "#### Syntax"
   ]
  },
  {
   "cell_type": "code",
   "execution_count": null,
   "metadata": {},
   "outputs": [],
   "source": [
    "#in-place vs out of place in the context of sorting algorithms refers to space complexity, an in-place sorting algorithm \n",
    "#doesnt require extra space to sort, usually sorting by swapping elements\n",
    "#example \n",
    ".sort()\n",
    "#space complexity is always O(1)"
   ]
  },
  {
   "cell_type": "markdown",
   "metadata": {},
   "source": [
    "#### Out of Place Algorithm"
   ]
  },
  {
   "cell_type": "code",
   "execution_count": null,
   "metadata": {},
   "outputs": [],
   "source": [
    "#an out of place algorithm requires additional space to sort, usually creating a new list to do so\n",
    "#O(n) space complexity or larger\n"
   ]
  },
  {
   "cell_type": "markdown",
   "metadata": {},
   "source": [
    "#### In-Class Exercise #1 <br>\n",
    "<p>Write a function that takes in four arguments (list, index1, index2, index3), and swaps those three positions in the list passed in.</p>"
   ]
  },
  {
   "cell_type": "code",
   "execution_count": 86,
   "metadata": {},
   "outputs": [
    {
     "data": {
      "text/plain": [
       "[10, 8, 4, 3, 4, 2, 6]"
      ]
     },
     "execution_count": 86,
     "metadata": {},
     "output_type": "execute_result"
    }
   ],
   "source": [
    "l_1 = [10, 4, 3, 8, 4, 2, 6]\n",
    "\n",
    "def swap_pos(lst, index1, index2, index3):\n",
    "    var1 = lst[index1]\n",
    "    var2 = lst[index2]\n",
    "    var3 = lst[index3]\n",
    "    \n",
    "    lst[index1] = var3\n",
    "    lst[index2] = var1\n",
    "    lst[index3] = var2\n",
    "    \n",
    "    return lst\n",
    "\n",
    "swap_pos(l_1, 1, 2, 3)\n",
    "        \n",
    "\n",
    "    \n",
    "        \n",
    "        "
   ]
  },
  {
   "cell_type": "markdown",
   "metadata": {},
   "source": [
    "## Two Pointers"
   ]
  },
  {
   "cell_type": "markdown",
   "metadata": {},
   "source": [
    "#### Syntax"
   ]
  },
  {
   "cell_type": "code",
   "execution_count": null,
   "metadata": {},
   "outputs": [],
   "source": []
  },
  {
   "cell_type": "markdown",
   "metadata": {},
   "source": [
    "#### Video of Algorithms <br>\n",
    "<p>Watch the video about algorithms.</p>\n",
    "\n",
    "https://www.youtube.com/watch?v=Q9HjeFD62Uk\n",
    "\n",
    "https://www.youtube.com/watch?v=kPRA0W1kECg\n",
    "\n",
    "https://www.youtube.com/watch?v=ZZuD6iUe3Pc"
   ]
  },
  {
   "cell_type": "markdown",
   "metadata": {},
   "source": [
    "# Sorting Algorithms"
   ]
  },
  {
   "cell_type": "markdown",
   "metadata": {},
   "source": [
    "#### Bubble Sort\n",
    "\n",
    "Worst Case: O(n^2) Time - O(1) Space"
   ]
  },
  {
   "cell_type": "code",
   "execution_count": null,
   "metadata": {},
   "outputs": [],
   "source": [
    "#bubble sorting is a type of sorting algorithm for list and arrays which is in place and relies on two loops an outer loop to\n",
    "#iterate through the entire list and an inner loop to compare adjacent elements and swap them if needed \n",
    "#example of an 'unoptimized' bubble sort function\n",
    "def bubble_sort(arr):\n",
    "    \"\"\"sort a list with the bubble sort method\"\"\"\n",
    "    n = len(arr) #this gives us a variable which tells us length of list important for looping through it\n",
    "    for i in range(n): #loop through the entire list\n",
    "        for j in range(0, n - i - 1): #compare adjacent elements and swap if needed\n",
    "            if arr[j] > arr[j + 1]:\n",
    "                arr[j],arr[j+1] = arr[j+1],arr[j]\n",
    "    #if we had a list with 5 items it would have a len(list) = 5 and an index of 0 through 4(off by one in py), n would then\n",
    "    #give us 5 and the outer loop would give us range(5) which doesnt give us 0-5 (off by one) but 0-4 which is all of the\n",
    "    #indexes of the list, the outer loop would iterate from 0 thru 4 and for each iteration it would run the inner loop\n",
    "    #the first time it runs the inner loop i would equal = 0 so it would create j in range of n(5) - i(0) - 1 = 4 which\n",
    "    #would create j in range of 0,4 thus its iteration would stop at 3, which seems like we would miss the last item of the \n",
    "    #list but we wouldnt as the [j+1] part would compare 3 to 3+1 or index 4 in the final iter of the inner loop for the \n",
    "    #first iter of the  outer loop, on the first iter of the outerloop and of the inner loop it would start of comparing arr[0]\n",
    "    #to arr[0+1] or 1 and if needed swap them the inner loop would then move onto 1 and compare arr[1] to arr[1+1] or 2 and\n",
    "    #swap them until the entire list has been sorted after the first run of the inner loop (outerloop is on 0) the last index is \n",
    "    #sorted and it has the largest value you could say it has \"bubbled\" to the top, the next iter of outerloop would decrease the\n",
    "    #range of the inner loop as it doesnt need to inspect the last element and this process would repeat until the list is sorted"
   ]
  },
  {
   "cell_type": "markdown",
   "metadata": {},
   "source": [
    "##### Insertion Sort\n",
    "\n",
    "Worst Case: O(n^2) time - O(1)space"
   ]
  },
  {
   "cell_type": "code",
   "execution_count": null,
   "metadata": {},
   "outputs": [],
   "source": [
    "#what the code for insertion sort sort would look like:\n",
    "def insert_sort(alist):\n",
    "    n = len(alist)\n",
    "    for i in range(1, n)\n",
    "        key = alist[i]\n",
    "        j = i - 1\n",
    "        \n",
    "        while j >= 0 and key < alist[j]:\n",
    "            alist[j + 1] = alist[j]\n",
    "            j = j - 1\n",
    "            \n",
    "        alist[j + 1] = key\n",
    "\n",
    "        \n",
    "            \n",
    "            \n",
    "\n",
    "\n",
    "\n",
    "\n",
    "\n",
    "\n",
    "\n",
    "#insertion sort is an in-place sort method that works similar to sorting a deck of cards with two hands, a single element in\n",
    "#a list by itself is always considered sorted, going off of this, insertion sort divides a list into 2 sublist, sorted(the\n",
    "#first element) and unsorted(the rest of the list), values for the unsorted part are stored in a temporary variable and if \n",
    "#index at 1(not 0 but 1) is smaller than 0(or the sorted list), the insertion sort rewrites that index to the sorted part \n",
    "#before it and then replaces the original index of the larger number that was out of place with the temporary variable that \n",
    "#came before, if the number after 0 in index 1 is larger than 1 it just becomes part of the sorted, the program goes through\n",
    "#the entire list doing this until its sorted\n"
   ]
  },
  {
   "cell_type": "markdown",
   "metadata": {},
   "source": [
    "## Merge Sort"
   ]
  },
  {
   "cell_type": "markdown",
   "metadata": {},
   "source": [
    "#### How it Works"
   ]
  },
  {
   "cell_type": "code",
   "execution_count": null,
   "metadata": {},
   "outputs": [],
   "source": [
    "#merge sort works by \"dividing and conquering\" to sort a given list a list is divided into two unsorted sublist, the sublist\n",
    "#are then recursively sorted, by being further split into smaller sublist until a base case of 1 or 0 is reached (a list of\n",
    "#1 is always sorted) then the sorted sublist are merged back together\n",
    "#example of a merge sort function:\n",
    "def mergesort(array): #function takes a list as an argument \n",
    "    if len(array) > 1: #establishing a base case a merge sort uses recursion\n",
    "        r = len(array)//2 #gives the midpoint of the list\n",
    "        L = array[:r] #first half of the list\n",
    "        M = array[r:] #second half of this list\n",
    "        \n",
    "        #recursively sort the halves \n",
    "        mergesort(L)\n",
    "        mergesort(M)\n",
    "        \n",
    "        i = j = k = 0 #set pointers for our sublist and for the merged sorted list of L+M\n",
    "        \n",
    "        #until we reach the end of L or M the function will call itself over and over and the pointers will compare the sublist and\n",
    "        #add the smaller of the values its comparing to a new sorted list\n",
    "        while i < len(L) and j < len(M):\n",
    "            if L[i] < M[j]:\n",
    "                array[k] = L[i]\n",
    "                i += 1\n",
    "            else:\n",
    "                array[k] = M[j]\n",
    "                j += 1\n",
    "            k += 1\n",
    "        #once we are out of elements in L or M we put the remaning in our new list\n",
    "        while i < len(L):\n",
    "            array[k] = L[i]\n",
    "            i += 1\n",
    "            k += 1\n",
    "\n",
    "        while j < len(M):\n",
    "            array[k] = M[j]\n",
    "            j += 1\n",
    "            k += 1\n",
    "#a merge sort function will take a list or array and divide it into two halves and sort them then return a big list/array of\n",
    "#the combined sorted halves, it calls itself over and over until both sublist are empty and whie it calls itself and the sublist \n",
    "#has values it has pointers(i, j and k) which go over the subarrays and compare them position by position and add the smaller\n",
    "#number to the new list, it does this again and again and each time it does the subarrays get smaller, until one of them is\n",
    "#out of values in that case it added the remaining values to the new list and returns it, sorted\n",
    "        "
   ]
  },
  {
   "cell_type": "markdown",
   "metadata": {},
   "source": [
    "# Binary Search\n",
    "\n",
    "The Binary Search algorithm works by finding the number in the middle of a given array and comparing it to the target. Given that the array is sorted\n",
    "\n",
    "* The worst case run time for this algorithm is `O(log(n))`"
   ]
  },
  {
   "cell_type": "code",
   "execution_count": null,
   "metadata": {},
   "outputs": [],
   "source": []
  },
  {
   "cell_type": "markdown",
   "metadata": {},
   "source": [
    "# Exercises"
   ]
  },
  {
   "cell_type": "markdown",
   "metadata": {},
   "source": [
    "### Exercise #1 <br>\n",
    "<p>Reverse the list below in-place using an in-place algorithm.<br>For extra credit: Reverse the strings at the same time.</p>"
   ]
  },
  {
   "cell_type": "code",
   "execution_count": 108,
   "metadata": {},
   "outputs": [
    {
     "name": "stdout",
     "output_type": "stream",
     "text": [
      "['.', 'sentence', 'a', 'is', 'this']\n"
     ]
    }
   ],
   "source": [
    "words = ['this' , 'is', 'a', 'sentence', '.']\n",
    "\n",
    "words.reverse()\n",
    "print(words)\n",
    "    \n"
   ]
  },
  {
   "cell_type": "markdown",
   "metadata": {},
   "source": [
    "### Exercise #2 <br>\n",
    "<p>Create a function that counts how many distinct words are in the string below, then outputs a dictionary with the words as the key and the value as the amount of times that word appears in the string.<br>Should output:<br>{'a': 5,<br>\n",
    " 'abstract': 1,<br>\n",
    " 'an': 3,<br>\n",
    " 'array': 2, ... etc...</p>"
   ]
  },
  {
   "cell_type": "code",
   "execution_count": 133,
   "metadata": {},
   "outputs": [
    {
     "name": "stdout",
     "output_type": "stream",
     "text": [
      "{'In': 1, 'computing,': 1, 'a': 4, 'hash': 4, 'table': 2, 'map': 2, 'is': 1, 'data': 2, 'structure': 2, 'which': 2, 'implements': 1, 'an': 3, 'associative': 1, 'array': 2, 'abstract': 1, 'type,': 1, 'that': 1, 'can': 2, 'keys': 1, 'to': 2, 'values.': 1, 'A': 1, 'uses': 1, 'function': 1, 'compute': 1, 'index': 1, 'into': 1, 'of': 1, 'buckets': 1, 'or': 1, 'slots': 1, 'from': 1, 'the': 1, 'desired': 1, 'value': 1, 'be': 1, 'found': 1}\n"
     ]
    }
   ],
   "source": [
    "a_text = 'In computing, a hash table hash map is a data structure which implements an associative array abstract data type, a structure that can map keys to values. A hash table uses a hash function to compute an index into an array of buckets or slots from which the desired value can be found'\n",
    "\n",
    "def count_words(sometext):\n",
    "    \n",
    "\n",
    "    wordnum = len(sometext.split(' '))  \n",
    "    wordlist = sometext.split(' ')  \n",
    "    worddict = {}\n",
    "    for x in wordlist:\n",
    "        worddict[x] = wordlist.count(x)\n",
    "    \n",
    "    print(worddict)\n",
    "    \n",
    "count_words(a_text)\n",
    "\n",
    "    \n",
    "\n"
   ]
  },
  {
   "cell_type": "markdown",
   "metadata": {},
   "source": [
    "## Exercise #3\n",
    "\n",
    "Write a program to implement a Linear Search Algorithm. Also in a comment, write the Time Complexity of the following algorithm.\n",
    "\n",
    "#### Hint: Linear Searching will require searching a list for a given number. "
   ]
  },
  {
   "cell_type": "code",
   "execution_count": 4,
   "metadata": {},
   "outputs": [
    {
     "name": "stdout",
     "output_type": "stream",
     "text": [
      "match at index 3 for 6\n"
     ]
    }
   ],
   "source": [
    "#a linear search algorithm is a very simple search algorithm which searches through a list or array sequentially, it goes \n",
    "#through each element from start to end and compares with a value until it finds a match then it returns index where match is\n",
    "#found \n",
    "#example \n",
    "def linearsearch(array, x):\n",
    "    for i in range (0, len(array)):\n",
    "        if array[i] == x:\n",
    "            print(f\"match at index {i} for {x}\")\n",
    "   \n",
    "nums = [1,2,5,6,4,9,0]\n",
    "linearsearch(nums, 6) \n",
    "#time complexity: O(n), linear time complexity as time it takes to find a match directly increases with length of array/list"
   ]
  }
 ],
 "metadata": {
  "kernelspec": {
   "display_name": "Python 3 (ipykernel)",
   "language": "python",
   "name": "python3"
  },
  "language_info": {
   "codemirror_mode": {
    "name": "ipython",
    "version": 3
   },
   "file_extension": ".py",
   "mimetype": "text/x-python",
   "name": "python",
   "nbconvert_exporter": "python",
   "pygments_lexer": "ipython3",
   "version": "3.10.9"
  }
 },
 "nbformat": 4,
 "nbformat_minor": 2
}
